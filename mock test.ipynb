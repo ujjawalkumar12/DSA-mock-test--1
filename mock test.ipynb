{
 "cells": [
  {
   "cell_type": "markdown",
   "id": "e29c2627",
   "metadata": {},
   "source": [
    "Question:\n",
    "\n",
    "Move Zeroes\n",
    "Given an integer array nums, move all 0's to the end of it while maintaining the relative order of the non-zero elements.\n",
    "\n",
    "Note that you must do this in-place without making a copy of the array.\n",
    "\n",
    "Example 1:\n",
    "Input: nums = [0,1,0,3,12]\n",
    "Output: [1,3,12,0,0]\n",
    "\n",
    "Example 2:\n",
    "Input: nums = [0]\n",
    "Output: [0]\n",
    "\n",
    "Constraints:\n",
    "a. 1 <= nums.length <= 10^4\n",
    "b. -2^31 <= nums[i] <= 2^31 - 1"
   ]
  },
  {
   "cell_type": "markdown",
   "id": "96f53a48",
   "metadata": {},
   "source": [
    "Answer - To solve this problem, we can use a two-pointer approach. The idea is to have one pointer (let's call it nonZero) to keep track of the last non-zero element's position, and another pointer (current) to iterate through the array.\n",
    "\n",
    "Here's the step-by-step algorithm to move zeroes to the end of the array while maintaining the relative order of non-zero elements:\n",
    "\n",
    "1. Initialize the nonZero pointer to 0.\n",
    "2. Iterate through the array with the current pointer from 0 to the end.\n",
    "3. If the current element is non-zero:\n",
    "  Swap the element at the current pointer with the element at the nonZero pointer.\n",
    "  Increment the nonZero pointer by 1.\n",
    "4. After iterating through the array, all non-zero elements will be in their correct positions, and the nonZero pointer will point to the next available position for zeros.\n",
    "5. Iterate from the nonZero pointer to the end of the array and set all elements to zero.\n",
    "\n",
    "\n",
    "Here's the implementation in Python:"
   ]
  },
  {
   "cell_type": "code",
   "execution_count": 1,
   "id": "39467201",
   "metadata": {},
   "outputs": [],
   "source": [
    "def moveZeroes(nums):\n",
    "    nonZero = 0\n",
    "    for current in range(len(nums)):\n",
    "        if nums[current] != 0:\n",
    "            nums[current], nums[nonZero] = nums[nonZero], nums[current]\n",
    "            nonZero += 1\n",
    "    for i in range(nonZero, len(nums)):\n",
    "        nums[i] = 0\n",
    "    return nums\n"
   ]
  },
  {
   "cell_type": "markdown",
   "id": "bac1ba4b",
   "metadata": {},
   "source": [
    "Let's test it with the provided examples:"
   ]
  },
  {
   "cell_type": "code",
   "execution_count": 2,
   "id": "8c6841f6",
   "metadata": {},
   "outputs": [
    {
     "name": "stdout",
     "output_type": "stream",
     "text": [
      "[1, 3, 12, 0, 0]\n",
      "[0]\n"
     ]
    }
   ],
   "source": [
    "nums1 = [0, 1, 0, 3, 12]\n",
    "print(moveZeroes(nums1))  # Output: [1, 3, 12, 0, 0]\n",
    "\n",
    "nums2 = [0]\n",
    "print(moveZeroes(nums2))  # Output: [0]\n"
   ]
  },
  {
   "cell_type": "markdown",
   "id": "5ccea2ac",
   "metadata": {},
   "source": [
    "The algorithm should correctly move all the zeros to the end while maintaining the relative order of non-zero elements."
   ]
  }
 ],
 "metadata": {
  "kernelspec": {
   "display_name": "Python 3 (ipykernel)",
   "language": "python",
   "name": "python3"
  },
  "language_info": {
   "codemirror_mode": {
    "name": "ipython",
    "version": 3
   },
   "file_extension": ".py",
   "mimetype": "text/x-python",
   "name": "python",
   "nbconvert_exporter": "python",
   "pygments_lexer": "ipython3",
   "version": "3.9.12"
  }
 },
 "nbformat": 4,
 "nbformat_minor": 5
}
